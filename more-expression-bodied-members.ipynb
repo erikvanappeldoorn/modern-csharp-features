{
 "cells": [
  {
   "cell_type": "markdown",
   "metadata": {},
   "source": [
    "### More expression bodied members\n",
    "\n",
    "Expression bodied methods, properties etc. are a big hit in C# 6.0, but we didn’t allow them in all kinds of members. C# 7.0 adds accessors, constructors and finalizers to the list of things that can have expression bodies: "
   ]
  },
  {
   "cell_type": "code",
   "execution_count": null,
   "metadata": {},
   "outputs": [],
   "source": [
    "using System.Collections.Concurrent;\n",
    "\n",
    "public class Person\n",
    "{\n",
    "    private static ConcurrentDictionary<int, string> names = new ConcurrentDictionary<int, string>();\n",
    "    private int id = 1084;\n",
    "\n",
    "    public Person(string name) => names.TryAdd(id, name); // constructors\n",
    "    \n",
    "    ~Person() => names.TryRemove(id, out _);              // finalizers\n",
    "\n",
    "    public string Name\n",
    "    {\n",
    "        get => names[id];                                 // getters\n",
    "        set => names[id] = value;                         // setters\n",
    "    }\n",
    "}\n",
    "\n",
    "Person person = new Person(\"Erik van Appeldoorn\");\n",
    "Console.WriteLine(person.Name);"
   ]
  }
 ],
 "metadata": {
  "kernelspec": {
   "display_name": ".NET (C#)",
   "language": "C#",
   "name": ".net-csharp"
  },
  "polyglot_notebook": {
   "kernelInfo": {
    "defaultKernelName": "csharp",
    "items": [
     {
      "aliases": [],
      "languageName": "csharp",
      "name": "csharp"
     }
    ]
   }
  }
 },
 "nbformat": 4,
 "nbformat_minor": 2
}
