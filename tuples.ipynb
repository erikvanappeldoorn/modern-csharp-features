{
 "cells": [
  {
   "cell_type": "markdown",
   "metadata": {},
   "source": [
    "### Tuples\n",
    "\n",
    "It is common to want to return more than one value from a method. C# 7.0 adds tuple types and tuple literals:"
   ]
  },
  {
   "cell_type": "code",
   "execution_count": null,
   "metadata": {
    "polyglot_notebook": {
     "kernelName": "csharp"
    }
   },
   "outputs": [],
   "source": [
    "(string, string, string) LookupName(long id) \n",
    "{\n",
    "    string first = \"Erik\";\n",
    "    string middle = \"van\";\n",
    "    string last = \"Appeldoorn\";\n",
    "\n",
    "    return (first, middle, last);\n",
    "}\n",
    "\n",
    "var fullName = LookupName(1);\n",
    "Console.WriteLine($\"{fullName.Item1} {fullName.Item2} {fullName.Item3}\");"
   ]
  },
  {
   "cell_type": "markdown",
   "metadata": {},
   "source": [
    "Item1 etc. are the default names for tuple elements, and can always be used. But they aren’t very descriptive, so you can optionally add better ones:"
   ]
  },
  {
   "cell_type": "code",
   "execution_count": null,
   "metadata": {
    "polyglot_notebook": {
     "kernelName": "csharp"
    }
   },
   "outputs": [],
   "source": [
    "(string first, string middle, string last) LookupName(long id) \n",
    "{\n",
    "    string first = \"Erik\";\n",
    "    string middle = \"van\";\n",
    "    string last = \"Appeldoorn\";\n",
    "\n",
    "    return (first, middle, last);\n",
    "}\n",
    "\n",
    "var fullName = LookupName(1);\n",
    "Console.WriteLine($\"{fullName.first} {fullName.middle} {fullName.last}\");"
   ]
  },
  {
   "cell_type": "markdown",
   "metadata": {},
   "source": [
    "#### Deconstruction\n",
    "\n",
    "Another way to consume tuples is to deconstruct them. A deconstructing declaration is a syntax for splitting a tuple (or other value) into its parts and assigning those parts individually to fresh variables:"
   ]
  },
  {
   "cell_type": "code",
   "execution_count": null,
   "metadata": {
    "polyglot_notebook": {
     "kernelName": "csharp"
    }
   },
   "outputs": [],
   "source": [
    "(string first, string middle, string last) LookupName(long id) \n",
    "{\n",
    "    string first = \"Erik\";\n",
    "    string middle = \"van\";\n",
    "    string last = \"Appeldoorn\";\n",
    "\n",
    "    return (first, middle, last);\n",
    "}\n",
    "\n",
    "(string first, string middle, string last) = LookupName(1);\n",
    "Console.WriteLine($\"{first} {middle} {last}\");"
   ]
  },
  {
   "cell_type": "markdown",
   "metadata": {},
   "source": [
    "Deconstruction is not just for tuples. Any type can be deconstructed, as long as it has an (instance or extension) deconstructor method."
   ]
  },
  {
   "cell_type": "code",
   "execution_count": null,
   "metadata": {
    "polyglot_notebook": {
     "kernelName": "csharp"
    }
   },
   "outputs": [],
   "source": [
    "class Point\n",
    "{\n",
    "    public int X { get; }\n",
    "    public int Y { get; }\n",
    "\n",
    "    public Point(int x, int y) { X = x; Y = y; }\n",
    "    public void Deconstruct(out int x, out int y) { x = X; y = Y; }\n",
    "}\n",
    "\n",
    "Point point = new Point(1,1);\n",
    "\n",
    "(var x, var y) = point; \n",
    "Console.WriteLine($\"x: {x} y: {y}\");"
   ]
  }
 ],
 "metadata": {
  "kernelspec": {
   "display_name": ".NET (C#)",
   "language": "C#",
   "name": ".net-csharp"
  },
  "polyglot_notebook": {
   "kernelInfo": {
    "defaultKernelName": "csharp",
    "items": [
     {
      "aliases": [],
      "languageName": "csharp",
      "name": "csharp"
     }
    ]
   }
  }
 },
 "nbformat": 4,
 "nbformat_minor": 2
}
