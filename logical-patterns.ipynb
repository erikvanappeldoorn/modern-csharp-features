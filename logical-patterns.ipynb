{
 "cells": [
  {
   "cell_type": "markdown",
   "metadata": {},
   "source": [
    "### Logical patterns\n",
    "\n",
    "Finally you can combine patterns with logical operators and, or and not, spelled out as words to avoid confusion with the operators used in expressions. For instance:"
   ]
  },
  {
   "cell_type": "code",
   "execution_count": null,
   "metadata": {
    "polyglot_notebook": {
     "kernelName": "csharp"
    }
   },
   "outputs": [],
   "source": [
    "public record DeliveryTruck(int GrossWeightClass);\n",
    "\n",
    "public static decimal CalculateToll(DeliveryTruck vehicle) => vehicle.GrossWeightClass switch\n",
    "{\n",
    "   < 3000 => 10.00m - 2.00m,\n",
    "   >= 3000 and <= 5000 => 10.00m,\n",
    "   > 5000 => 10.00m + 5.00m,\n",
    "};\n",
    "\n",
    "var truck = new DeliveryTruck(4000);\n",
    "decimal toll = CalculateToll((truck));\n",
    "\n",
    "Console.WriteLine(toll);"
   ]
  }
 ],
 "metadata": {
  "kernelspec": {
   "display_name": ".NET (C#)",
   "language": "C#",
   "name": ".net-csharp"
  },
  "polyglot_notebook": {
   "kernelInfo": {
    "defaultKernelName": "csharp",
    "items": [
     {
      "aliases": [],
      "languageName": "csharp",
      "name": "csharp"
     }
    ]
   }
  }
 },
 "nbformat": 4,
 "nbformat_minor": 2
}
