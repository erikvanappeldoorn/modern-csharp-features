{
 "cells": [
  {
   "cell_type": "markdown",
   "metadata": {},
   "source": [
    "### Simple type patterns\n",
    "\n",
    "Currently, a type pattern needs to declare an identifier when the type matches – even if that identifier is a discard _, as in DeliveryTruck _ "
   ]
  },
  {
   "cell_type": "code",
   "execution_count": null,
   "metadata": {
    "polyglot_notebook": {
     "kernelName": "csharp"
    }
   },
   "outputs": [],
   "source": [
    "public record DeliveryTruck(int GrossWeightClass);\n",
    "\n",
    "public static decimal CalculateToll(object vehicle) => vehicle switch\n",
    "{\n",
    "   DeliveryTruck t when t.GrossWeightClass > 5000 => 10.00m + 5.00m,\n",
    "   DeliveryTruck t when t.GrossWeightClass < 3000 => 10.00m - 2.00m,\n",
    "   DeliveryTruck _ => 10.00m,\n",
    "   _ => throw new ArgumentException(\"Not a known vehicle type\", nameof(vehicle))\n",
    "};\n",
    "\n",
    "var truck = new DeliveryTruck(4000);\n",
    "decimal toll = CalculateToll((truck));\n",
    "\n",
    "Console.WriteLine(toll);"
   ]
  },
  {
   "cell_type": "markdown",
   "metadata": {},
   "source": [
    "But now you can just write the type: DeliveryTruck => 10.00m,"
   ]
  },
  {
   "cell_type": "code",
   "execution_count": null,
   "metadata": {
    "polyglot_notebook": {
     "kernelName": "csharp"
    }
   },
   "outputs": [],
   "source": [
    "public static decimal CalculateToll(object vehicle) => vehicle switch\n",
    "{\n",
    "   DeliveryTruck t when t.GrossWeightClass > 5000 => 10.00m + 5.00m,\n",
    "   DeliveryTruck t when t.GrossWeightClass < 3000 => 10.00m - 2.00m,\n",
    "   DeliveryTruck => 10.00m,\n",
    "   _ => throw new ArgumentException(\"Not a known vehicle type\", nameof(vehicle))\n",
    "};\n",
    "\n",
    "var truck = new DeliveryTruck(4000);\n",
    "decimal toll = CalculateToll((truck));\n",
    "\n",
    "Console.WriteLine(toll);"
   ]
  }
 ],
 "metadata": {
  "kernelspec": {
   "display_name": ".NET (C#)",
   "language": "C#",
   "name": ".net-csharp"
  },
  "polyglot_notebook": {
   "kernelInfo": {
    "defaultKernelName": "csharp",
    "items": [
     {
      "aliases": [],
      "languageName": "csharp",
      "name": "csharp"
     }
    ]
   }
  }
 },
 "nbformat": 4,
 "nbformat_minor": 2
}
