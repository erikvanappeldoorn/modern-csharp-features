{
 "cells": [
  {
   "cell_type": "markdown",
   "metadata": {},
   "source": [
    "### Tuple patterns\n",
    "\n",
    "Some pattern matching features have already been added to C# in version 7.0. Several new forms of pattern matching are being added to C# 8.0. Tuple patterns allow matching of more than one value in a single pattern matching expression:"
   ]
  },
  {
   "cell_type": "code",
   "execution_count": null,
   "metadata": {},
   "outputs": [],
   "source": [
    "public enum State\n",
    "{\n",
    "   Running,\n",
    "   Suspended,\n",
    "   NotRunning\n",
    "}\n",
    "\n",
    "public enum Transition\n",
    "{\n",
    "   Suspend,\n",
    "   Resume,\n",
    "   Terminate,\n",
    "   Activate\n",
    "}\n",
    "\n",
    "State state = State.Suspended;\n",
    "Transition transition = Transition.Resume;\n",
    "\n",
    "switch (state, transition)\n",
    "{\n",
    "    case (State.Running, Transition.Suspend):\n",
    "        state = State.Suspended;\n",
    "        break;\n",
    "    case (State.Suspended, Transition.Resume):\n",
    "        state = State.Running;\n",
    "        break;\n",
    "    case (State.Suspended, Transition.Terminate):\n",
    "        state = State.NotRunning;\n",
    "        break;\n",
    "    case (State.NotRunning, Transition.Activate):\n",
    "        state = State.Running;\n",
    "        break;\n",
    "    default:\n",
    "        throw new InvalidOperationException();tup\n",
    "}\n",
    "\n",
    "Console.WriteLine(state);"
   ]
  }
 ],
 "metadata": {
  "kernelspec": {
   "display_name": ".NET (C#)",
   "language": "C#",
   "name": ".net-csharp"
  },
  "polyglot_notebook": {
   "kernelInfo": {
    "defaultKernelName": "csharp",
    "items": [
     {
      "aliases": [],
      "languageName": "csharp",
      "name": "csharp"
     }
    ]
   }
  }
 },
 "nbformat": 4,
 "nbformat_minor": 2
}
