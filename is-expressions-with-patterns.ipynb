{
 "cells": [
  {
   "cell_type": "markdown",
   "metadata": {},
   "source": [
    "C# 7.0 introduces the notion of patterns, which, abstractly speaking, are syntactic elements that can test that a value has a certain \"shape\", and extract information from the value when it does.\n",
    "\n",
    "is expressions can now have a pattern on the right hand side, instead of just a type"
   ]
  },
  {
   "cell_type": "code",
   "execution_count": null,
   "metadata": {
    "polyglot_notebook": {
     "kernelName": "csharp"
    }
   },
   "outputs": [
    {
     "name": "stdout",
     "output_type": "stream",
     "text": [
      "Number: 1084\n"
     ]
    }
   ],
   "source": [
    "object o = 1084;\n",
    "\n",
    "if (o is int number)\n",
    "{\n",
    "   Console.WriteLine($\"Number: {number}\");\n",
    "}"
   ]
  }
 ],
 "metadata": {
  "kernelspec": {
   "display_name": ".NET (C#)",
   "language": "C#",
   "name": ".net-csharp"
  },
  "polyglot_notebook": {
   "kernelInfo": {
    "defaultKernelName": "csharp",
    "items": [
     {
      "aliases": [],
      "languageName": "csharp",
      "name": "csharp"
     }
    ]
   }
  }
 },
 "nbformat": 4,
 "nbformat_minor": 2
}
