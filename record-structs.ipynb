{
 "cells": [
  {
   "cell_type": "markdown",
   "metadata": {},
   "source": [
    "### Record structs\n",
    "\n",
    "Starting in C# 10, records can now be defined with record struct. These are similar to record classes that were introduced in C# 9:\n",
    "\n",
    "You can continue to define record classes with record, or you can use record class for clarity.\n",
    "\n",
    "Record structs can be positional, with a primary constructor implicitly declaring public members:"
   ]
  },
  {
   "cell_type": "code",
   "execution_count": null,
   "metadata": {
    "polyglot_notebook": {
     "kernelName": "csharp"
    }
   },
   "outputs": [],
   "source": [
    "public record struct Person\n",
    "{\n",
    "    public string FirstName { get; init; }\n",
    "    public string LastName { get; init; }\n",
    "}\n",
    "\n",
    "public record struct Employee(string FirstName, string LastName);"
   ]
  }
 ],
 "metadata": {
  "kernelspec": {
   "display_name": ".NET (C#)",
   "language": "C#",
   "name": ".net-csharp"
  },
  "polyglot_notebook": {
   "kernelInfo": {
    "defaultKernelName": "csharp",
    "items": [
     {
      "aliases": [],
      "languageName": "csharp",
      "name": "csharp"
     }
    ]
   }
  }
 },
 "nbformat": 4,
 "nbformat_minor": 2
}
