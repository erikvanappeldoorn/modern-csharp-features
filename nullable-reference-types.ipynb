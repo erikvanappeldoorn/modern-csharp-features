{
 "cells": [
  {
   "cell_type": "markdown",
   "metadata": {},
   "source": [
    "### Nullable reference types\n",
    "\n",
    "Nullable reference types were already considered in the early stages of C# 7.0 development but were postponed until the next major version. The goal of this feature is to help developers avoid unhandled NullReferenceException exceptions.\n",
    "\n",
    "The core idea is to allow variable type definitions to specify whether they can have null value assigned to them or not:"
   ]
  },
  {
   "cell_type": "code",
   "execution_count": null,
   "metadata": {
    "polyglot_notebook": {
     "kernelName": "csharp"
    }
   },
   "outputs": [],
   "source": [
    "public class Person \n",
    "{\n",
    "   public void DoSomething()\n",
    "   {\n",
    "   }\n",
    "}\n",
    "\n",
    "Person  person; // can not be null\n",
    "Person? nullablePerson; // can be null\n",
    "\n",
    "person = null; // warning\n",
    "nullablePerson = null; // no warning\n",
    "person = nullablePerson; // warning \n",
    "\n",
    "\n",
    "if (nullablePerson is not null)\n",
    "{\n",
    "  nullablePerson.DoSomething(); // no warning\n",
    "}"
   ]
  }
 ],
 "metadata": {
  "kernelspec": {
   "display_name": ".NET (C#)",
   "language": "C#",
   "name": ".net-csharp"
  },
  "polyglot_notebook": {
   "kernelInfo": {
    "defaultKernelName": "csharp",
    "items": [
     {
      "aliases": [],
      "languageName": "csharp",
      "name": "csharp"
     }
    ]
   }
  }
 },
 "nbformat": 4,
 "nbformat_minor": 2
}
