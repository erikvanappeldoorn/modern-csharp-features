{
 "cells": [
  {
   "cell_type": "markdown",
   "metadata": {},
   "source": [
    "### Static members in interfaces\n",
    "\n",
    "How do you abstract over operations that are inherently static – such as operators? The traditional answer is “poorly”. In C# 11 we released support for static virtual members in interfaces, which was in preview in C# 10. With this you can now define a very simple mathematical interface."
   ]
  },
  {
   "cell_type": "code",
   "execution_count": null,
   "metadata": {
    "polyglot_notebook": {
     "kernelName": "csharp"
    }
   },
   "outputs": [],
   "source": [
    "public interface IMonoid<TSelf> where TSelf : IMonoid<TSelf>\n",
    "{\n",
    "    public static abstract TSelf operator +(TSelf a, TSelf b);\n",
    "    public static abstract TSelf Zero { get; }\n",
    "}"
   ]
  },
  {
   "cell_type": "markdown",
   "metadata": {},
   "source": [
    "Notice how the interface takes a type parameter for “itself”. That’s because static members don’t have a this.\n",
    "\n",
    "Anyone can now implement this interface by providing implementations for the two static members, and passing themselves as the TSelf type argument."
   ]
  },
  {
   "cell_type": "code",
   "execution_count": null,
   "metadata": {
    "polyglot_notebook": {
     "kernelName": "csharp"
    }
   },
   "outputs": [],
   "source": [
    "public interface IMonoid<TSelf> where TSelf : IMonoid<TSelf>\n",
    "{\n",
    "    public static abstract TSelf operator +(TSelf a, TSelf b);\n",
    "    public static abstract TSelf Zero { get; }\n",
    "}\n",
    "\n",
    "public struct MyInt : IMonoid<MyInt>\n",
    "{\n",
    "    int value;\n",
    "    public MyInt(int i) => value = i;\n",
    "    public static MyInt operator +(MyInt a, MyInt b) => new MyInt(a.value + b.value);\n",
    "    public static MyInt Zero => new MyInt(0);\n",
    "}"
   ]
  },
  {
   "cell_type": "markdown",
   "metadata": {},
   "source": [
    "Importantly, how do you consume these abstract operations? How do you call virtual members when there is no instance to call them on? The answer is via generics. Here is what it looks like."
   ]
  },
  {
   "cell_type": "code",
   "execution_count": null,
   "metadata": {
    "polyglot_notebook": {
     "kernelName": "csharp"
    }
   },
   "outputs": [],
   "source": [
    "\n",
    "public interface IMonoid<TSelf> where TSelf : IMonoid<TSelf>\n",
    "{\n",
    "    public static abstract TSelf operator +(TSelf a, TSelf b);\n",
    "    public static abstract TSelf Zero { get; }\n",
    "}\n",
    "\n",
    "public struct MyInt : IMonoid<MyInt>\n",
    "{\n",
    "    int value;\n",
    "    public MyInt(int i) => value = i;\n",
    "    public static MyInt operator +(MyInt a, MyInt b) => new MyInt(a.value + b.value);\n",
    "    public static MyInt Zero => new MyInt(0);\n",
    "}\n",
    "\n",
    "T AddAll<T>(params T[] elements) where T : IMonoid<T>\n",
    "{\n",
    "    T result = T.Zero;\n",
    "    foreach (var element in elements)\n",
    "    {\n",
    "        result += element;\n",
    "    }\n",
    "    return result;\n",
    "}\n",
    "\n",
    "MyInt sum = AddAll<MyInt>(new MyInt(3), new MyInt(4), new MyInt(5));"
   ]
  },
  {
   "cell_type": "markdown",
   "metadata": {},
   "source": [
    "In fact .NET 7 comes with a new namespace System.Numerics chock-full of math interfaces, representing the different combinations of operators and other static members that you’d ever want to use: the “grown-up” versions of the little IMonoid<T> interface above. All the numeric types in .NET now implement these new interfaces – and you can add them for your own types too! So it’s now easy to write numeric algorithms once and for all – abstracted from the concrete types they work on – instead of having forests of overloads containing essentially the same code.\n",
    "\n",
    "Even if you do not create interfaces with static virtual members, you benefit from the improvements they make to .NET libraries, now and in the future."
   ]
  }
 ],
 "metadata": {
  "kernelspec": {
   "display_name": ".NET (C#)",
   "language": "C#",
   "name": ".net-csharp"
  },
  "polyglot_notebook": {
   "kernelInfo": {
    "defaultKernelName": "csharp",
    "items": [
     {
      "aliases": [],
      "languageName": "csharp",
      "name": "csharp"
     }
    ]
   }
  }
 },
 "nbformat": 4,
 "nbformat_minor": 2
}
