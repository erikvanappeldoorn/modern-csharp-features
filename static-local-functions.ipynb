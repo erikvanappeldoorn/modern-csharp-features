{
 "cells": [
  {
   "cell_type": "markdown",
   "metadata": {},
   "source": [
    "### Static local functions\n",
    "\n",
    "Local functions were introduced in C# 7.0. They automatically capture the context of the enclosing scope to make any variables from the containing method available inside them. \n",
    "\n",
    "In C# 8.0, you can declare a local function as static. This will prevent using the variables from the containing method in the local function and at the same time avoid the performance cost related to making them available. A variable from the containing method can of course still be passed to the local function as a parameters"
   ]
  },
  {
   "cell_type": "code",
   "execution_count": null,
   "metadata": {
    "polyglot_notebook": {
     "kernelName": "csharp"
    }
   },
   "outputs": [],
   "source": [
    "const decimal interestRate = 2.5M;\n",
    "\n",
    "public void GetAmountWithInterest(decimal amount)\n",
    "{\n",
    "    Console.WriteLine($\"Amount without interest: {amount}\");\n",
    "    \n",
    "    decimal amountwithInterest = CalculateWithInterest(amount);\n",
    "    Console.WriteLine($\"Amount with interest: {amountwithInterest}\");\n",
    "\n",
    "    static decimal CalculateWithInterest(decimal amount)\n",
    "    {\n",
    "        return ((100+interestRate)*amount) / 100;\n",
    "    }\n",
    "}\n",
    "\n",
    "GetAmountWithInterest(1000.0M);"
   ]
  }
 ],
 "metadata": {
  "kernelspec": {
   "display_name": ".NET (C#)",
   "language": "C#",
   "name": ".net-csharp"
  },
  "polyglot_notebook": {
   "kernelInfo": {
    "defaultKernelName": "csharp",
    "items": [
     {
      "aliases": [],
      "languageName": "csharp",
      "name": "csharp"
     }
    ]
   }
  }
 },
 "nbformat": 4,
 "nbformat_minor": 2
}
