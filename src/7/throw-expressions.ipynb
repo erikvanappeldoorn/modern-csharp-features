{
 "cells": [
  {
   "cell_type": "markdown",
   "metadata": {},
   "source": [
    "### Throw expressions\n",
    "\n",
    "It is easy to throw an exception in the middle of an expression: just call a method that does it for you! But in C# 7.0 we are directly allowing throw as an expression in certain places:"
   ]
  },
  {
   "cell_type": "code",
   "execution_count": null,
   "metadata": {
    "polyglot_notebook": {
     "kernelName": "csharp"
    }
   },
   "outputs": [],
   "source": [
    "public class Person\n",
    "{\n",
    "    public string Name { get; }\n",
    "\n",
    "    public Person(string name) => Name = name ?? throw new ArgumentNullException(nameof(name));\n",
    "    \n",
    "    public string GetFirstName()\n",
    "    {\n",
    "        var parts = Name.Split(\" \");\n",
    "        return (parts.Length > 0) ? parts[0] : throw new InvalidOperationException(\"No name!\");\n",
    "    }\n",
    "    public string GetLastName() => throw new NotImplementedException();\n",
    "}\n",
    "\n",
    "Person person = new Person(\"Erik van Appeldoorn\");\n",
    "Console.WriteLine(person.GetFirstName());\n",
    "Console.WriteLine(person.GetLastName());"
   ]
  }
 ],
 "metadata": {
  "kernelspec": {
   "display_name": ".NET (C#)",
   "language": "C#",
   "name": ".net-csharp"
  },
  "polyglot_notebook": {
   "kernelInfo": {
    "defaultKernelName": "csharp",
    "items": [
     {
      "aliases": [],
      "languageName": "csharp",
      "name": "csharp"
     }
    ]
   }
  }
 },
 "nbformat": 4,
 "nbformat_minor": 2
}
