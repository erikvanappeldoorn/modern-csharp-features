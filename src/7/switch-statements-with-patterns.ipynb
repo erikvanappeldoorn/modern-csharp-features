{
 "cells": [
  {
   "cell_type": "markdown",
   "metadata": {},
   "source": [
    "### Switch expressions with patterns\n",
    "\n",
    "Patterns can be used in case clauses. Case clauses can have additional conditions on them (when condition)."
   ]
  },
  {
   "cell_type": "code",
   "execution_count": null,
   "metadata": {
    "polyglot_notebook": {
     "kernelName": "csharp"
    }
   },
   "outputs": [],
   "source": [
    "public abstract class Shape \n",
    "{\n",
    "}\n",
    "\n",
    "public class Circle : Shape\n",
    "{\n",
    "   public double Radius {get; set; }\n",
    "}\n",
    "\n",
    "public class Rectangle : Shape\n",
    "{\n",
    "   public double Height {get; set;}\n",
    "\n",
    "   public double Length {get; set;}\n",
    "}\n",
    "\n",
    "Shape shape = new Circle {Radius = 1.0};\n",
    "\n",
    "switch(shape)\n",
    "{\n",
    "    case Circle c:\n",
    "        Console.WriteLine($\"circle with radius {c.Radius}\");\n",
    "        break;\n",
    "    case Rectangle s when (s.Length == s.Height):\n",
    "        Console.WriteLine($\"{s.Length} x {s.Height} square\");\n",
    "        break;\n",
    "    case Rectangle r:\n",
    "        Console.WriteLine($\"{r.Length} x {r.Height} rectangle\");\n",
    "        break;\n",
    "    default:\n",
    "        Console.WriteLine(\"<unknown shape>\");\n",
    "        break;\n",
    "    case null:\n",
    "        throw new ArgumentNullException(nameof(shape));\n",
    "}"
   ]
  },
  {
   "cell_type": "markdown",
   "metadata": {},
   "source": [
    "There are several things to note about this newly extended switch statement:\n",
    "\n",
    "The order of case clauses now matters: Just like catch clauses, the case clauses are no longer necessarily disjoint, and the first one that matches gets picked. It’s therefore important that the square case comes before the rectangle case above. Also, just like with catch clauses, the compiler will help you by flagging obvious cases that can never be reached. Before this you couldn’t ever tell the order of evaluation, so this is not a breaking change of behavior.\n",
    "\n",
    "The default clause is always evaluated last: Even though the null case above comes last, it will be checked before the default clause is picked. This is for compatibility with existing switch semantics. However, good practice would usually have you put the default clause at the end.\n",
    "\n",
    "The null clause at the end is not unreachable: This is because type patterns follow the example of the current is expression and do not match null. This ensures that null values aren’t accidentally snapped up by whichever type pattern happens to come first; you have to be more explicit about how to handle them (or leave them for the default clause).\n",
    "\n",
    "Pattern variables introduced by a case ...: label are in scope only in the corresponding switch section.\n",
    "\n"
   ]
  }
 ],
 "metadata": {
  "kernelspec": {
   "display_name": ".NET (C#)",
   "language": "C#",
   "name": ".net-csharp"
  },
  "polyglot_notebook": {
   "kernelInfo": {
    "defaultKernelName": "csharp",
    "items": [
     {
      "aliases": [],
      "languageName": "csharp",
      "name": "csharp"
     }
    ]
   }
  }
 },
 "nbformat": 4,
 "nbformat_minor": 2
}
