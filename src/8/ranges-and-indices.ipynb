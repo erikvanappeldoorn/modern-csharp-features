{
 "cells": [
  {
   "cell_type": "markdown",
   "metadata": {},
   "source": [
    "### Ranges and indices\n",
    "\n",
    "C# 8.0 introduces new syntax for expressing a range of values. The starting index of a range is inclusive, and the ending index is exclusive. Alternatively, the ending can be specified as an offset from the end."
   ]
  },
  {
   "cell_type": "code",
   "execution_count": null,
   "metadata": {},
   "outputs": [],
   "source": [
    "Range range = 1..5;\n",
    "int[] numbers = {0,1,2,3,4,5,6,7,8,9};\n",
    "\n",
    "numbers[range].ToList().ForEach(n => Console.WriteLine(n));\n",
    "Console.WriteLine();\n",
    "\n",
    "numbers[1..^1].ToList().ForEach(n => Console.WriteLine(n));\n",
    "Console.WriteLine();\n",
    "\n",
    "numbers[1..].ToList().ForEach(n => Console.WriteLine(n));\n",
    "Console.WriteLine();\n",
    "\n",
    "Console.WriteLine(numbers[^1]);\n",
    "Console.WriteLine();\n",
    "\n",
    "numbers[^3..].ToList().ForEach(n => Console.WriteLine(n));"
   ]
  }
 ],
 "metadata": {
  "kernelspec": {
   "display_name": ".NET (C#)",
   "language": "C#",
   "name": ".net-csharp"
  },
  "polyglot_notebook": {
   "kernelInfo": {
    "defaultKernelName": "csharp",
    "items": [
     {
      "aliases": [],
      "languageName": "csharp",
      "name": "csharp"
     }
    ]
   }
  }
 },
 "nbformat": 4,
 "nbformat_minor": 2
}
