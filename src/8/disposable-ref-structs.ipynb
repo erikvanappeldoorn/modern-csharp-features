{
 "cells": [
  {
   "cell_type": "markdown",
   "metadata": {},
   "source": [
    "### Disposable ref structs\n",
    "\n",
    "C# 7 added support for structs which must be allocated on the stack (declared with the ref struct keywords). They are primarily useful in high-performance scenarios which require non-managed access to continuous blocks of memory (Span<T> is an example of such a type).\n",
    "\n",
    "Such types are subject to many restrictions. Among others, they are not allowed to implement an interface. This also includes the IDisposable interface making it impossible to implement the disposable pattern.\n",
    "\n",
    "Although they still can’t implement interfaces in C# 8.0, they can now implement the disposable pattern by simply defining the Dispose method:"
   ]
  },
  {
   "cell_type": "code",
   "execution_count": null,
   "metadata": {
    "polyglot_notebook": {
     "kernelName": "csharp"
    }
   },
   "outputs": [],
   "source": [
    "ref struct RefStruct\n",
    "{\n",
    " \n",
    "    public void Dispose()\n",
    "    {\n",
    "        // release unmanaged resources\n",
    "    }\n",
    "}\n",
    "\n",
    "using (var refStruct = new RefStruct())\n",
    "{\n",
    "\n",
    "}"
   ]
  }
 ],
 "metadata": {
  "kernelspec": {
   "display_name": ".NET (C#)",
   "language": "C#",
   "name": ".net-csharp"
  },
  "polyglot_notebook": {
   "kernelInfo": {
    "defaultKernelName": "csharp",
    "items": [
     {
      "aliases": [],
      "languageName": "csharp",
      "name": "csharp"
     }
    ]
   }
  }
 },
 "nbformat": 4,
 "nbformat_minor": 2
}
