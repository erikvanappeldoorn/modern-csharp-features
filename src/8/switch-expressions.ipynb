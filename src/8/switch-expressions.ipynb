{
 "cells": [
  {
   "cell_type": "markdown",
   "metadata": {},
   "source": [
    "### Switch expressions\n",
    "\n",
    "The switch expression allows terser syntax than the switch statement when the only result of pattern matching is assigning a value to a single variable:"
   ]
  },
  {
   "cell_type": "code",
   "execution_count": null,
   "metadata": {
    "polyglot_notebook": {
     "kernelName": "csharp"
    }
   },
   "outputs": [],
   "source": [
    "public enum State\n",
    "{\n",
    "   Running,\n",
    "   Suspended,\n",
    "   NotRunning\n",
    "}\n",
    "\n",
    "public enum Transition\n",
    "{\n",
    "   Suspend,\n",
    "   Resume,\n",
    "   Terminate,\n",
    "   Activate\n",
    "}\n",
    "\n",
    "State state = State.Suspended;\n",
    "Transition transition = Transition.Resume;\n",
    "\n",
    "state = (state, transition) switch\n",
    "{\n",
    "    (State.Running, Transition.Suspend)     => State.Suspended,\n",
    "    (State.Suspended, Transition.Resume)    => State.Running,\n",
    "    (State.Suspended, Transition.Terminate) => State.NotRunning,\n",
    "    (State.NotRunning, Transition.Activate) => State.Running,\n",
    "    _ => throw new InvalidOperationException()\n",
    "};\n",
    "\n",
    "Console.WriteLine(state);"
   ]
  }
 ],
 "metadata": {
  "kernelspec": {
   "display_name": ".NET (C#)",
   "language": "C#",
   "name": ".net-csharp"
  },
  "polyglot_notebook": {
   "kernelInfo": {
    "defaultKernelName": "csharp",
    "items": [
     {
      "aliases": [],
      "languageName": "csharp",
      "name": "csharp"
     }
    ]
   }
  }
 },
 "nbformat": 4,
 "nbformat_minor": 2
}
