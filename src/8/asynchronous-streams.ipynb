{
 "cells": [
  {
   "cell_type": "markdown",
   "metadata": {},
   "source": [
    "### Asynchronous streams\n",
    "\n",
    "C# already has support for iterators and asynchronous methods. In C# 8.0, the two are combined into asynchronous streams. These are based on asynchronous versions of the IEnumerable and IEnumerator interfaces:"
   ]
  },
  {
   "cell_type": "code",
   "execution_count": null,
   "metadata": {},
   "outputs": [],
   "source": [
    "async IAsyncEnumerable<int> GetValuesAsync()\n",
    "{\n",
    "    for (var i = 0; i < 10; i++)\n",
    "    {\n",
    "        await Task.Delay(1000);\n",
    "        yield return i;\n",
    "    }\n",
    "}\n",
    "\n",
    "await foreach (int value in GetValuesAsync())\n",
    "{\n",
    "    Console.WriteLine(value);\n",
    "}"
   ]
  }
 ],
 "metadata": {
  "kernelspec": {
   "display_name": ".NET (C#)",
   "language": "C#",
   "name": ".net-csharp"
  },
  "polyglot_notebook": {
   "kernelInfo": {
    "defaultKernelName": "csharp",
    "items": [
     {
      "aliases": [],
      "languageName": "csharp",
      "name": "csharp"
     }
    ]
   }
  }
 },
 "nbformat": 4,
 "nbformat_minor": 2
}
