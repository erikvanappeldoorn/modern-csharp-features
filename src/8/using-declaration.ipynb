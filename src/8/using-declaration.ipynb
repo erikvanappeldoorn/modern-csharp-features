{
 "cells": [
  {
   "cell_type": "markdown",
   "metadata": {},
   "source": [
    "### Using declaration\n",
    "\n",
    "The using statement is a great way to ensure that the Dispose method will be called on a type implementing the IDisposable interface when an instance gets out of scope:"
   ]
  },
  {
   "cell_type": "code",
   "execution_count": null,
   "metadata": {},
   "outputs": [],
   "source": [
    "using System.IO;\n",
    "\n",
    "string filename = @\"c:\\temp\\temp.txt\";\n",
    "\n",
    "try\n",
    "{\n",
    "   using (var reader = new StreamReader(filename))\n",
    "   {\n",
    "      var contents = reader.ReadToEnd();\n",
    "      Console.WriteLine($\"Read {contents.Length} characters from file.\");\n",
    "   }\n",
    "}\n",
    "catch\n",
    "{\n",
    "   Console.WriteLine($\"Error reading file: {filename}\");\n",
    "}"
   ]
  },
  {
   "cell_type": "markdown",
   "metadata": {},
   "source": [
    "In C# 8.0, the using declaration is available as an alternative. The using keyword can now be placed in front of a variable declaration. When such a variable falls out of scope (i.e. the containing block of code is exited) the Dispose method will automatically be called."
   ]
  },
  {
   "cell_type": "code",
   "execution_count": null,
   "metadata": {},
   "outputs": [],
   "source": [
    "using System.IO;\n",
    "\n",
    "string filename = @\"c:\\temp\\temp.txt\";\n",
    "\n",
    "try\n",
    "{\n",
    "   using var reader = new StreamReader(filename);\n",
    "   \n",
    "   var contents = reader.ReadToEnd();\n",
    "   Console.WriteLine($\"Read {contents.Length} characters from file.\");\n",
    "}\n",
    "catch\n",
    "{\n",
    "   Console.WriteLine($\"Error reading file: {filename}\");\n",
    "}"
   ]
  }
 ],
 "metadata": {
  "kernelspec": {
   "display_name": ".NET (C#)",
   "language": "C#",
   "name": ".net-csharp"
  },
  "polyglot_notebook": {
   "kernelInfo": {
    "defaultKernelName": "csharp",
    "items": [
     {
      "aliases": [],
      "languageName": "csharp",
      "name": "csharp"
     }
    ]
   }
  }
 },
 "nbformat": 4,
 "nbformat_minor": 2
}
