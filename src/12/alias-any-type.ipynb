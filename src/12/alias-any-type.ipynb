{
 "cells": [
  {
   "cell_type": "markdown",
   "metadata": {
    "polyglot_notebook": {
     "kernelName": "csharp"
    }
   },
   "source": [
    "### Alias any type\n",
    "\n",
    "Aliasing types is a convenient way to remove complex type signatures from your code. Starting with C# 12, additional types are valid in using alias directives. For example, these aliases are not valid in earlier versions of C#.\n",
    "\n",
    "Like other using aliases, these types can be used at the top of a file and in global using statements."
   ]
  },
  {
   "cell_type": "code",
   "execution_count": null,
   "metadata": {
    "polyglot_notebook": {
     "kernelName": "csharp"
    }
   },
   "outputs": [],
   "source": [
    "using intArray = int[]; // Array types.\n",
    "using Point = (int x, int y);  // Tuple type\n",
    "using unsafe ArrayPtr = int*;  // Pointer type (requires \"unsafe\")\n",
    "\n",
    "\n",
    "Point point = (2,3);\n",
    "\n",
    "var (x, y) = point;\n",
    "Console.WriteLine($\"x: {x} y: {y}\")"
   ]
  }
 ],
 "metadata": {
  "kernelspec": {
   "display_name": ".NET (C#)",
   "language": "C#",
   "name": ".net-csharp"
  },
  "polyglot_notebook": {
   "kernelInfo": {
    "defaultKernelName": "csharp",
    "items": [
     {
      "aliases": [],
      "languageName": "csharp",
      "name": "csharp"
     }
    ]
   }
  }
 },
 "nbformat": 4,
 "nbformat_minor": 2
}
