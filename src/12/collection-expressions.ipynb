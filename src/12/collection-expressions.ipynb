{
 "cells": [
  {
   "cell_type": "markdown",
   "metadata": {},
   "source": [
    "### Collection expressions\n",
    "\n",
    "Prior to C# 12, creating collections required different syntax for different scenarios. Initializing a List<int> required different syntax than an int[] or Span<int>. Collection expressions are a unified syntax. "
   ]
  },
  {
   "cell_type": "code",
   "execution_count": null,
   "metadata": {
    "polyglot_notebook": {
     "kernelName": "csharp"
    }
   },
   "outputs": [],
   "source": [
    "int[] numbers = [1, 2, 3, 4];\n",
    "int[] empty = [];\n",
    "\n",
    "List<int> items  = [1, 2, 3, 4];"
   ]
  },
  {
   "cell_type": "markdown",
   "metadata": {},
   "source": [
    "And if this wasn’t enough – you can use the new spread operator to include the elements of one or more collections or enumerable expressions within a collection expression."
   ]
  },
  {
   "cell_type": "code",
   "execution_count": null,
   "metadata": {
    "polyglot_notebook": {
     "kernelName": "csharp"
    }
   },
   "outputs": [],
   "source": [
    "int[] numbers1 = [1, 2, 3];\n",
    "int[] numbers2 = [4, 5, 6];\n",
    "int[] moreNumbers = [.. numbers1, .. numbers2, 7, 8, 9];\n",
    "\n",
    "moreNumbers.ToList().ForEach(n => Console.WriteLine(n));"
   ]
  }
 ],
 "metadata": {
  "kernelspec": {
   "display_name": ".NET (C#)",
   "language": "C#",
   "name": ".net-csharp"
  },
  "polyglot_notebook": {
   "kernelInfo": {
    "defaultKernelName": "csharp",
    "items": [
     {
      "aliases": [],
      "languageName": "csharp",
      "name": "csharp"
     }
    ]
   }
  }
 },
 "nbformat": 4,
 "nbformat_minor": 2
}
