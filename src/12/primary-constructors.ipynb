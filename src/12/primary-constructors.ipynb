{
 "cells": [
  {
   "cell_type": "markdown",
   "metadata": {},
   "source": [
    "### Primary constructors\n",
    "\n",
    "C# 12 extends primary constructors to work on all classes and structs, not just records. Primary constructors let you define constructor parameters when you declare the class."
   ]
  },
  {
   "cell_type": "code",
   "execution_count": null,
   "metadata": {
    "polyglot_notebook": {
     "kernelName": "csharp"
    }
   },
   "outputs": [],
   "source": [
    "public class BankAccount(string accountID, string owner)\n",
    "{\n",
    "    public string AccountID { get; } = accountID;\n",
    "    public string Owner { get; } = owner;\n",
    "\n",
    "    public override string ToString() => $\"Account ID: {AccountID}, Owner: {Owner}\";\n",
    "}\n",
    "\n",
    "BankAccount account = new(\"12345\", \"Erik van Appeldoorn\");\n",
    "Console.WriteLine(account);"
   ]
  },
  {
   "cell_type": "markdown",
   "metadata": {},
   "source": [
    "You can add primary constructors to any type: class, struct, record class and record struct. When used on class and struct types, primary constructor parameters are in scope in the entire class or struct definition. You can use the parameters to initialize fields or properties, or in the body of other members."
   ]
  }
 ],
 "metadata": {
  "kernelspec": {
   "display_name": ".NET (C#)",
   "language": "C#",
   "name": ".net-csharp"
  },
  "polyglot_notebook": {
   "kernelInfo": {
    "defaultKernelName": "csharp",
    "items": [
     {
      "aliases": [],
      "languageName": "csharp",
      "name": "csharp"
     }
    ]
   }
  }
 },
 "nbformat": 4,
 "nbformat_minor": 2
}
