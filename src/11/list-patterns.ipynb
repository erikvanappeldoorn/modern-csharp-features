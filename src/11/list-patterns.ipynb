{
 "cells": [
  {
   "cell_type": "markdown",
   "metadata": {},
   "source": [
    "### List patterns\n",
    "\n",
    "Pattern matching is one of the ongoing stories in C# that we just keep filling out. Pattern matching was introduced in C# 7 and since then it has grown to become one of the most important and powerful control structures in the language.\n",
    "\n",
    "C# 11 adds list patterns to the story. With list patterns you can apply patterns recursively to the individual elements of list-like input – or to a range of them."
   ]
  },
  {
   "cell_type": "code",
   "execution_count": null,
   "metadata": {
    "polyglot_notebook": {
     "kernelName": "csharp"
    }
   },
   "outputs": [],
   "source": [
    "int[] numbers = { 1, 2, 3 };\n",
    "\n",
    "Console.WriteLine(numbers is [1, 2, 3]);  // True\n",
    "Console.WriteLine(numbers is [1, 2, 4]);  // False\n",
    "Console.WriteLine(numbers is [1, 2, 3, 4]);  // False\n",
    "Console.WriteLine(numbers is [0 or 1, <= 2, >= 3]);  // True"
   ]
  },
  {
   "cell_type": "markdown",
   "metadata": {},
   "source": [
    "As the preceding example shows, a list pattern is matched when each nested pattern matches the corresponding element of an input sequence. You can use any pattern within a list pattern. To match any element, use the discard pattern or, if you also want to capture the element, the var pattern, as the following example shows."
   ]
  },
  {
   "cell_type": "code",
   "execution_count": null,
   "metadata": {
    "polyglot_notebook": {
     "kernelName": "csharp"
    }
   },
   "outputs": [],
   "source": [
    "int[] numbers = { 1, 2, 3 };\n",
    "\n",
    "if (numbers is [var first, _, var last])\n",
    "{\n",
    "   Console.WriteLine($\"First element: {first}\");\n",
    "   Console.WriteLine($\"Last element: {last}\");\n",
    "}"
   ]
  },
  {
   "cell_type": "markdown",
   "metadata": {},
   "source": [
    "The preceding examples match a whole input sequence against a list pattern. To match elements only at the start or/and the end of an input sequence, use the slice pattern .., as the following example shows"
   ]
  },
  {
   "cell_type": "code",
   "execution_count": null,
   "metadata": {
    "polyglot_notebook": {
     "kernelName": "csharp"
    }
   },
   "outputs": [],
   "source": [
    "int[] numbers = { 1, 2, 3, 4, 5, 6, 7, 8, 9, 0 };\n",
    "\n",
    "Console.WriteLine(numbers is [> 0, > 0, ..]);  // True\n",
    "Console.WriteLine(numbers is [> 0, > 2, ..]);  // False\n",
    "Console.WriteLine(numbers is [.., 8, 9, 0]);  // True\n",
    "Console.WriteLine(numbers is [1, 2, .., 9, 0]);  // True\n",
    "Console.WriteLine(numbers is [1, 2, .., 8, 9]);  // False"
   ]
  }
 ],
 "metadata": {
  "kernelspec": {
   "display_name": ".NET (C#)",
   "language": "C#",
   "name": ".net-csharp"
  },
  "polyglot_notebook": {
   "kernelInfo": {
    "defaultKernelName": "csharp",
    "items": [
     {
      "aliases": [],
      "languageName": "csharp",
      "name": "csharp"
     }
    ]
   }
  }
 },
 "nbformat": 4,
 "nbformat_minor": 2
}
