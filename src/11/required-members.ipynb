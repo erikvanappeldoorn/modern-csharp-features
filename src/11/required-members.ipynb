{
 "cells": [
  {
   "cell_type": "markdown",
   "metadata": {},
   "source": [
    "### Required members\n",
    "\n",
    "When creating types that used object initializers, you used to be unable to specify that some properties must be initialized. Now, you can say that a property or field is required. This means that it must be initialized by an object initializer when an object of the type is created."
   ]
  },
  {
   "cell_type": "code",
   "execution_count": null,
   "metadata": {},
   "outputs": [
    {
     "ename": "Error",
     "evalue": "(8,18): error CS9035: Required member 'Person.LastName' must be set in the object initializer or attribute constructor.",
     "output_type": "error",
     "traceback": [
      "(8,18): error CS9035: Required member 'Person.LastName' must be set in the object initializer or attribute constructor."
     ]
    }
   ],
   "source": [
    "public class Person\n",
    "{\n",
    "    public required string FirstName { get; init; }\n",
    "    public string? MiddleName { get; init; }\n",
    "    public required string LastName { get; init; }\n",
    "}\n",
    "\n",
    "var person = new Person {FirstName = \"Erik\", MiddleName = \"van\"}; \n",
    "// Error: (8,18): error CS9035: Required member 'Person.LastName' must be set in the object initializer or attribute constructor."
   ]
  },
  {
   "cell_type": "markdown",
   "metadata": {},
   "source": [
    "The required modifier can be applied to fields and properties declared in struct, and class types, including record and record struct types. The required modifier can't be applied to members of an interface."
   ]
  }
 ],
 "metadata": {
  "kernelspec": {
   "display_name": ".NET (C#)",
   "language": "C#",
   "name": ".net-csharp"
  },
  "polyglot_notebook": {
   "kernelInfo": {
    "defaultKernelName": "csharp",
    "items": [
     {
      "aliases": [],
      "languageName": "csharp",
      "name": "csharp"
     }
    ]
   }
  }
 },
 "nbformat": 4,
 "nbformat_minor": 2
}
