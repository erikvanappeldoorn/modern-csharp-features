{
 "cells": [
  {
   "cell_type": "markdown",
   "metadata": {},
   "source": [
    "### Raw string literals\n",
    "\n",
    "A lot of what gets put in string literals is “code” of some sort – not just program text, but also JSON and XML data, HTML, regular expressions, SQL queries, etc. It’s really unhelpful when many of the special characters that show up in such text have special meaning in C# string literals! Noteworthy examples include \\ and \", joined in interpolated strings by { and }. Having to escape all of those is a real bummer, and an ongoing source of pain an bugs.\n",
    "\n",
    "Why not have a form of string literals that has no escape characters at all? That’s what raw string literals are. Everything is content!\n",
    "\n",
    "A raw string literal is delimited by at least three double-quotes."
   ]
  },
  {
   "cell_type": "code",
   "execution_count": null,
   "metadata": {
    "polyglot_notebook": {
     "kernelName": "csharp"
    }
   },
   "outputs": [],
   "source": [
    "string raw1 = \"\"\"This\\is\\all \"content\"!\"\"\";\n",
    "Console.WriteLine(raw1);"
   ]
  },
  {
   "cell_type": "markdown",
   "metadata": {},
   "source": [
    "If you need three or more \"s to be part of your content, you just use more \"s on the outside. The beginning and end just have to match."
   ]
  },
  {
   "cell_type": "code",
   "execution_count": null,
   "metadata": {
    "polyglot_notebook": {
     "kernelName": "csharp"
    }
   },
   "outputs": [],
   "source": [
    "string raw2 = \"\"\"\"\"I can do \", \"\", \"\"\" or even \"\"\"\" double quotes!\"\"\"\"\";\n",
    "Console.WriteLine(raw2);"
   ]
  },
  {
   "cell_type": "markdown",
   "metadata": {},
   "source": [
    "Multi-line raw string literals can also truncate leading white space: The position of the end quote determines where white space starts to be included in the output."
   ]
  },
  {
   "cell_type": "code",
   "execution_count": null,
   "metadata": {
    "polyglot_notebook": {
     "kernelName": "csharp"
    }
   },
   "outputs": [],
   "source": [
    "string raw3 = \"\"\"\n",
    "    <element attr=\"content\">\n",
    "      <body>\n",
    "        This line is indented by 4 spaces.\n",
    "      </body>\n",
    "    </element>\n",
    "    \"\"\";\n",
    "//  ^white space left of here is removed\n",
    "\n",
    "Console.WriteLine(raw3);"
   ]
  }
 ],
 "metadata": {
  "kernelspec": {
   "display_name": ".NET (C#)",
   "language": "C#",
   "name": ".net-csharp"
  },
  "polyglot_notebook": {
   "kernelInfo": {
    "defaultKernelName": "csharp",
    "items": [
     {
      "aliases": [],
      "languageName": "csharp",
      "name": "csharp"
     }
    ]
   }
  }
 },
 "nbformat": 4,
 "nbformat_minor": 2
}
