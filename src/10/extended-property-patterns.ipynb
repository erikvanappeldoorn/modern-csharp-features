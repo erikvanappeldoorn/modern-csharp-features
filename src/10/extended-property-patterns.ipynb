{
 "cells": [
  {
   "cell_type": "markdown",
   "metadata": {},
   "source": [
    "### Extended property patterns\n",
    "\n",
    "C# 10 adds extended property patterns to make it easier to access nested property values in patterns. For example, if we add an address to the Person, we can pattern match in both of the ways as shown below.\n",
    "\n",
    "The extended property pattern simplifies the code and makes it easier to read, particularly when matching against multiple properties."
   ]
  },
  {
   "cell_type": "code",
   "execution_count": null,
   "metadata": {
    "polyglot_notebook": {
     "kernelName": "csharp"
    }
   },
   "outputs": [],
   "source": [
    "record Address\n",
    "{\n",
    "  public string City {get; init;}\n",
    "}\n",
    "\n",
    "record Person\n",
    "{\n",
    "   public string FirstName {get; init;}\n",
    "   public string LastName {get; init;}\n",
    "   public Address Address {get; init;}\n",
    "}\n",
    "\n",
    "object obj = new Person\n",
    "{\n",
    "    FirstName = \"Erik\",\n",
    "    LastName = \"van Appeldoorn\",\n",
    "    Address = new Address { City = \"Woudenberg\" }\n",
    "};\n",
    "\n",
    "if (obj is Person { Address: { City: \"Woudenberg\" } })\n",
    "    Console.WriteLine(\"Woudenberg\");\n",
    "\n",
    "if (obj is Person { Address.City: \"Woudenberg\" }) // Extended property pattern\n",
    "    Console.WriteLine(\"Woudenberg\");"
   ]
  }
 ],
 "metadata": {
  "kernelspec": {
   "display_name": ".NET (C#)",
   "language": "C#",
   "name": ".net-csharp"
  },
  "polyglot_notebook": {
   "kernelInfo": {
    "defaultKernelName": "csharp",
    "items": [
     {
      "aliases": [],
      "languageName": "csharp",
      "name": "csharp"
     }
    ]
   }
  }
 },
 "nbformat": 4,
 "nbformat_minor": 2
}
