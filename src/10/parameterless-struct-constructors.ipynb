{
 "cells": [
  {
   "cell_type": "markdown",
   "metadata": {},
   "source": [
    "### Parameterless struct constructors\n",
    "\n",
    "Prior to C# 10, every struct had an implicit public parameterless constructor that set the struct’s fields to default. It was an error for you to create a parameterless constructor on a struct.\n",
    "\n",
    "Starting in C# 10, you can include your own parameterless struct constructors. If you don’t supply one, the implicit parameterless constructor will be supplied to set all fields to their default. Parameterless constructors you create in structs must be public and cannot be partial."
   ]
  },
  {
   "cell_type": "code",
   "execution_count": null,
   "metadata": {
    "polyglot_notebook": {
     "kernelName": "csharp"
    }
   },
   "outputs": [],
   "source": [
    "public struct Address\n",
    "{\n",
    "    public Address()\n",
    "    {\n",
    "        City = \"<unknown>\";\n",
    "    }\n",
    "    public string City { get; init; }\n",
    "}\n",
    "\n",
    "Address address = new();\n",
    "Console.WriteLine(address.City);"
   ]
  },
  {
   "cell_type": "markdown",
   "metadata": {},
   "source": [
    "You can initialize fields in a parameterless constructor as above, or you can initialize them via field or property initializers."
   ]
  },
  {
   "cell_type": "code",
   "execution_count": null,
   "metadata": {
    "polyglot_notebook": {
     "kernelName": "csharp"
    }
   },
   "outputs": [],
   "source": [
    "public struct Address\n",
    "{\n",
    "    public Address()\n",
    "    {\n",
    "    }\n",
    "    \n",
    "    public string City { get; init; } = \"<unknown>\";\n",
    "}\n",
    "\n",
    "Address address = new();\n",
    "Console.WriteLine(address.City);"
   ]
  }
 ],
 "metadata": {
  "kernelspec": {
   "display_name": ".NET (C#)",
   "language": "C#",
   "name": ".net-csharp"
  },
  "polyglot_notebook": {
   "kernelInfo": {
    "defaultKernelName": "csharp",
    "items": [
     {
      "aliases": [],
      "languageName": "csharp",
      "name": "csharp"
     }
    ]
   }
  }
 },
 "nbformat": 4,
 "nbformat_minor": 2
}
