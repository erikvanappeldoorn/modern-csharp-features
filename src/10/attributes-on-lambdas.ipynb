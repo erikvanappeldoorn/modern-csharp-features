{
 "cells": [
  {
   "cell_type": "markdown",
   "metadata": {},
   "source": [
    "### Attributes on lambdas\n",
    "\n",
    "Starting in C# 10, you can put attributes on lambda expressions in the same way you do for methods and local functions. They go right where you expect; at the beginning. Once again, the lambda’s parameter list must be parenthesized when there are attributes.\n",
    "\n",
    "Just like local functions, attributes can be applied to lambdas if they are valid on AttributeTargets.Method.\n",
    "\n",
    "Lambdas are invoked differently than methods and local functions, and as a result attributes do not have any effect when the lambda is invoked. However, attributes on lambdas are still useful for code analysis, and they are also emitted on the methods that the compiler generates under the hood for lambdas, so they can be discovered via reflection."
   ]
  },
  {
   "cell_type": "code",
   "execution_count": null,
   "metadata": {
    "polyglot_notebook": {
     "kernelName": "csharp"
    }
   },
   "outputs": [],
   "source": [
    "[AttributeUsage(AttributeTargets.Method, AllowMultiple = true)]\n",
    "public class ExampleAttribute : Attribute\n",
    "{\n",
    "   private int exampleNumber;\n",
    "\n",
    "   public ExampleAttribute(int exampleNumber) => this.exampleNumber = exampleNumber;\n",
    "}\n",
    "\n",
    "Func<string, int> parse = [Example(1)] (s) => int.Parse(s);\n",
    "var choose = [Example(2)][Example(3)] object (bool b) => b ? 1 : \"two\";"
   ]
  }
 ],
 "metadata": {
  "kernelspec": {
   "display_name": ".NET (C#)",
   "language": "C#",
   "name": ".net-csharp"
  },
  "polyglot_notebook": {
   "kernelInfo": {
    "defaultKernelName": "csharp",
    "items": [
     {
      "aliases": [],
      "languageName": "csharp",
      "name": "csharp"
     }
    ]
   }
  }
 },
 "nbformat": 4,
 "nbformat_minor": 2
}
