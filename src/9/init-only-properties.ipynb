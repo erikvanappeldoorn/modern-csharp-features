{
 "cells": [
  {
   "cell_type": "markdown",
   "metadata": {},
   "source": [
    "### Init-only properties\n",
    "\n",
    "Properties have to be mutable for object initializers to work: They function by first calling the object’s constructor (the default, parameterless one in this case) and then assigning to the property setters.\n",
    "\n",
    "Init-only properties fix that. They introduce an init accessor that is a variant of the set accessor which can only be called during object initialization."
   ]
  },
  {
   "cell_type": "code",
   "execution_count": null,
   "metadata": {
    "polyglot_notebook": {
     "kernelName": "csharp"
    }
   },
   "outputs": [],
   "source": [
    "public class Person\n",
    "{\n",
    "    public string FirstName { get; init; }\n",
    "    public string LastName { get; init; }\n",
    "}\n",
    "\n",
    "Person person = new Person \n",
    "{\n",
    "   FirstName = \"Erik\",\n",
    "   LastName = \"van Appeldoorn\"  \n",
    "};\n",
    "\n",
    "Console.WriteLine(person.LastName);\n",
    "//person.FirstName = \"Eric\"  //No new assignment possible  "
   ]
  },
  {
   "cell_type": "markdown",
   "metadata": {},
   "source": [
    "#### Init accessors and readonly fields\n",
    "\n",
    "Because init accessors can only be called during initialization, they are allowed to mutate readonly fields of the enclosing class, just like you can in a constructor."
   ]
  },
  {
   "cell_type": "code",
   "execution_count": null,
   "metadata": {
    "polyglot_notebook": {
     "kernelName": "csharp"
    }
   },
   "outputs": [],
   "source": [
    "public class Person\n",
    "{\n",
    "    private readonly string firstName;\n",
    "    private readonly string lastName;\n",
    "    \n",
    "    public string FirstName \n",
    "    { \n",
    "        get => firstName; \n",
    "        init => firstName = (value ?? throw new ArgumentNullException(nameof(FirstName)));\n",
    "    }\n",
    "    public string LastName \n",
    "    { \n",
    "        get => lastName; \n",
    "        init => lastName = (value ?? throw new ArgumentNullException(nameof(LastName)));\n",
    "    }\n",
    "}"
   ]
  }
 ],
 "metadata": {
  "kernelspec": {
   "display_name": ".NET (C#)",
   "language": "C#",
   "name": ".net-csharp"
  },
  "polyglot_notebook": {
   "kernelInfo": {
    "defaultKernelName": "csharp",
    "items": [
     {
      "aliases": [],
      "languageName": "csharp",
      "name": "csharp"
     }
    ]
   }
  }
 },
 "nbformat": 4,
 "nbformat_minor": 2
}
