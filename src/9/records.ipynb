{
 "cells": [
  {
   "cell_type": "markdown",
   "metadata": {},
   "source": [
    "### Records\n",
    "\n",
    "Init-only properties are great if you want to make individual properties immutable. If you want the whole object to be immutable and behave like a value, then you should consider declaring it as a record.\n",
    "\n",
    "Generally speaking, records are meant to be seen more as “values” – data! – and less as objects. They aren’t meant to have mutable encapsulated state. Instead you represent change over time by creating new records representing the new state. They are defined not by their identity, but by their contents."
   ]
  },
  {
   "cell_type": "code",
   "execution_count": null,
   "metadata": {
    "polyglot_notebook": {
     "kernelName": "csharp"
    }
   },
   "outputs": [],
   "source": [
    "public record Person\n",
    "{\n",
    "    public string FirstName { get; init; }\n",
    "    public string LastName { get; init; }\n",
    "}\n",
    "\n",
    "Person person = new Person\n",
    "{\n",
    "   FirstName = \"Erik\",\n",
    "   LastName = \"van Appeldoorn\"\n",
    "};\n",
    "\n",
    "Console.WriteLine(person.LastName);\n",
    "//person.FirstName = \"Eric\"  //No new assigment possible "
   ]
  }
 ],
 "metadata": {
  "kernelspec": {
   "display_name": ".NET (C#)",
   "language": "C#",
   "name": ".net-csharp"
  },
  "polyglot_notebook": {
   "kernelInfo": {
    "defaultKernelName": "csharp",
    "items": [
     {
      "aliases": [],
      "languageName": "csharp",
      "name": "csharp"
     }
    ]
   }
  }
 },
 "nbformat": 4,
 "nbformat_minor": 2
}
