{
 "cells": [
  {
   "cell_type": "markdown",
   "metadata": {},
   "source": []
  },
  {
   "cell_type": "markdown",
   "metadata": {},
   "source": [
    "### Relational patterns\n",
    "\n",
    "C# 9.0 introduces patterns corresponding to the relational operators <, <= and so on\n"
   ]
  },
  {
   "cell_type": "code",
   "execution_count": null,
   "metadata": {},
   "outputs": [],
   "source": [
    "public record DeliveryTruck(int GrossWeightClass);\n",
    "\n",
    "public static decimal CalculateToll(DeliveryTruck vehicle) => vehicle.GrossWeightClass switch\n",
    "{\n",
    "   < 3000 => 10.00m - 2.00m,\n",
    "   > 5000 => 10.00m + 5.00m,\n",
    "   _ => 10.00m,\n",
    "};\n",
    "\n",
    "var truck = new DeliveryTruck(4000);\n",
    "decimal toll = CalculateToll((truck));\n",
    "\n",
    "Console.WriteLine(toll);"
   ]
  }
 ],
 "metadata": {
  "kernelspec": {
   "display_name": ".NET (C#)",
   "language": "C#",
   "name": ".net-csharp"
  },
  "polyglot_notebook": {
   "kernelInfo": {
    "defaultKernelName": "csharp",
    "items": [
     {
      "aliases": [],
      "languageName": "csharp",
      "name": "csharp"
     }
    ]
   }
  }
 },
 "nbformat": 4,
 "nbformat_minor": 2
}
