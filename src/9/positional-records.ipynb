{
 "cells": [
  {
   "cell_type": "markdown",
   "metadata": {},
   "source": [
    "### Positional records\n",
    "\n",
    "Sometimes it’s useful to have a more positional approach to a record, where its contents are given via constructor arguments, and can be extracted with positional deconstruction.\n",
    "\n",
    "It’s perfectly possible to specify your own constructor and deconstructor in a record"
   ]
  },
  {
   "cell_type": "code",
   "execution_count": null,
   "metadata": {
    "polyglot_notebook": {
     "kernelName": "csharp"
    }
   },
   "outputs": [],
   "source": [
    "public record Person \n",
    "{ \n",
    "    string FirstName; \n",
    "    string LastName; \n",
    "\n",
    "    public Person(string firstName, string lastName) \n",
    "      => (FirstName, LastName) = (firstName, lastName);\n",
    "      \n",
    "    public void Deconstruct(out string firstName, out string lastName) \n",
    "      => (firstName, lastName) = (FirstName, LastName);\n",
    "}"
   ]
  },
  {
   "cell_type": "markdown",
   "metadata": {},
   "source": [
    "But there’s a much shorter syntax for expressing exactly the same thing. This declares the public init-only auto-properties and the constructor and the deconstructor."
   ]
  },
  {
   "cell_type": "code",
   "execution_count": null,
   "metadata": {
    "polyglot_notebook": {
     "kernelName": "csharp"
    }
   },
   "outputs": [],
   "source": [
    "public record Person(string FirstName, string LastName);\n",
    "\n",
    "var person = new Person(\"Erik\", \"van Appeldoorn\"); \n",
    "var (firstName, lastName) = person;\n",
    "\n",
    "Console.WriteLine(firstName);\n",
    "Console.WriteLine(lastName);"
   ]
  }
 ],
 "metadata": {
  "kernelspec": {
   "display_name": ".NET (C#)",
   "language": "C#",
   "name": ".net-csharp"
  },
  "polyglot_notebook": {
   "kernelInfo": {
    "defaultKernelName": "csharp",
    "items": [
     {
      "aliases": [],
      "languageName": "csharp",
      "name": "csharp"
     }
    ]
   }
  }
 },
 "nbformat": 4,
 "nbformat_minor": 2
}
