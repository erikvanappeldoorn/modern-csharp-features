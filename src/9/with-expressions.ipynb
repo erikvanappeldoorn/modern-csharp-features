{
 "cells": [
  {
   "cell_type": "markdown",
   "metadata": {},
   "source": [
    "### With-expressions\n",
    "\n",
    "When working with immutable data, a common pattern is to create new values from existing ones to represent a new state. For instance, if our person were to change their last name we would represent it as a new object that’s a copy of the old one, except with a different last name. This technique is often referred to as non-destructive mutation. Instead of representing the person over time, the record represents the person’s state at a given time.\n",
    "\n",
    "To help with this style of programming, records allow for a new kind of expression; the with-expression."
   ]
  },
  {
   "cell_type": "code",
   "execution_count": null,
   "metadata": {},
   "outputs": [],
   "source": [
    "public record Person\n",
    "{\n",
    "    public string FirstName { get; init; }\n",
    "    public string LastName { get; init; }\n",
    "}\n",
    "\n",
    "Person person = new Person\n",
    "{\n",
    "   FirstName = \"Erik\",\n",
    "   LastName = \"van Appeldoorn\"\n",
    "};\n",
    "\n",
    "Person clonewithChange = person with {FirstName = \"Eric\"};\n",
    "\n",
    "Console.WriteLine(clonewithChange.FirstName + \" \" + clonewithChange.LastName);"
   ]
  }
 ],
 "metadata": {
  "kernelspec": {
   "display_name": ".NET (C#)",
   "language": "C#",
   "name": ".net-csharp"
  },
  "polyglot_notebook": {
   "kernelInfo": {
    "defaultKernelName": "csharp",
    "items": [
     {
      "aliases": [],
      "languageName": "csharp",
      "name": "csharp"
     }
    ]
   }
  }
 },
 "nbformat": 4,
 "nbformat_minor": 2
}
