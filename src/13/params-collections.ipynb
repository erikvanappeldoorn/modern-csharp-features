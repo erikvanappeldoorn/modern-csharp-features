{
 "cells": [
  {
   "cell_type": "markdown",
   "metadata": {},
   "source": [
    "### Params collections\n",
    "\n",
    "The params modifier isn't limited to array types. You can now use params with any recognized collection type, including `System.Span<T>`, `System.ReadOnlySpan<T>`, and types that implement `System.Collections.Generic.IEnumerable<T>` and have an Add method. In addition to concrete types, the interfaces `System.Collections.Generic.IEnumerable<T>`, `System.Collections.Generic.IReadOnlyCollection<T>`, `System.Collections.Generic.IReadOnlyList<T>`, `System.Collections.Generic.ICollection<T>`, and `System.Collections.Generic.IList<T>` can also be used.\n",
    "\n",
    "For example, method declarations can declare spans as params parameters."
   ]
  },
  {
   "cell_type": "code",
   "execution_count": null,
   "metadata": {},
   "outputs": [],
   "source": [
    "public void Concat<T>(params ReadOnlySpan<T> items)\n",
    "{\n",
    "    for (int i = 0; i < items.Length; i++)\n",
    "    {\n",
    "        Console.Write(items[i]);\n",
    "        Console.Write(\" \");\n",
    "    }\n",
    "    Console.WriteLine();\n",
    "}\n",
    "\n",
    "int[] numbers = [1,2,3,4,5,6,7,8,9,0];\n",
    "Concat(new ReadOnlySpan<int>(numbers));\n",
    "\n",
    "Concat(1,2,3,4,5,6,7,8,9,0);\n"
   ]
  }
 ],
 "metadata": {
  "kernelspec": {
   "display_name": ".NET (C#)",
   "language": "C#",
   "name": ".net-csharp"
  },
  "polyglot_notebook": {
   "kernelInfo": {
    "defaultKernelName": "csharp",
    "items": [
     {
      "aliases": [],
      "languageName": "csharp",
      "name": "csharp"
     }
    ]
   }
  }
 },
 "nbformat": 4,
 "nbformat_minor": 2
}
