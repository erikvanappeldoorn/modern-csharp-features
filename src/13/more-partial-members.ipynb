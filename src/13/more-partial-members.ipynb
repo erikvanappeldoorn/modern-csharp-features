{
 "cells": [
  {
   "cell_type": "markdown",
   "metadata": {},
   "source": [
    "### More partial members\n",
    "\n",
    "You can declare partial properties and partial indexers in C# 13. Partial properties and indexers generally follow the same rules as partial methods: you create one declaring declaration and one implementing declaration. The signatures of the two declarations must match. One restriction is that you can't use an auto-property declaration for implementing a partial property. Properties that don't declare a body are considered the declaring declaration."
   ]
  },
  {
   "cell_type": "code",
   "execution_count": null,
   "metadata": {},
   "outputs": [],
   "source": [
    "public partial class Demo\n",
    "{\n",
    "    // Declaring declaration\n",
    "    public partial string Name { get; set; }\n",
    "}\n",
    "\n",
    "public partial class Demo\n",
    "{\n",
    "    // implementation declaration:\n",
    "    private string _name;\n",
    "    public partial string Name\n",
    "    {\n",
    "        get => _name;\n",
    "        set => _name = value;\n",
    "    }\n",
    "}\n",
    "\n",
    "var demo = new Demo();\n",
    "demo.Name = \"Erik van Appeldoorn\";\n",
    "\n",
    "Console.WriteLine(demo.Name);"
   ]
  }
 ],
 "metadata": {
  "kernelspec": {
   "display_name": ".NET (C#)",
   "language": "C#",
   "name": ".net-csharp"
  },
  "polyglot_notebook": {
   "kernelInfo": {
    "defaultKernelName": "csharp",
    "items": [
     {
      "aliases": [],
      "languageName": "csharp",
      "name": "csharp"
     }
    ]
   }
  }
 },
 "nbformat": 4,
 "nbformat_minor": 2
}
