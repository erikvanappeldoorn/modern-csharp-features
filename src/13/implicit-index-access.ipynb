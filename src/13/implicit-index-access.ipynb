{
 "cells": [
  {
   "cell_type": "markdown",
   "metadata": {},
   "source": [
    "### Implicit index access\n",
    "\n",
    "The implicit \"from the end\" index operator, ^, is now allowed in an object initializer expression. For example, you can now initialize an array in an object initializer as shown in the following code."
   ]
  },
  {
   "cell_type": "code",
   "execution_count": null,
   "metadata": {},
   "outputs": [],
   "source": [
    "public class TimerRemaining\n",
    "{\n",
    "    public int[] buffer { get; set; } = new int[10];\n",
    "}\n",
    "\n",
    "var countdown = new TimerRemaining()\n",
    "{\n",
    "    buffer =\n",
    "    {\n",
    "        [^1] = 0,\n",
    "        [^2] = 1,\n",
    "        [^3] = 2,\n",
    "        [^4] = 3,\n",
    "        [^5] = 4,\n",
    "        [^6] = 5,\n",
    "        [^7] = 6,\n",
    "        [^8] = 7,\n",
    "        [^9] = 8,\n",
    "        [^10] = 9\n",
    "    }\n",
    "};\n",
    "\n",
    "foreach (int number in countdown.buffer)\n",
    "{\n",
    "   Console.WriteLine(number);\n",
    "}"
   ]
  },
  {
   "cell_type": "markdown",
   "metadata": {},
   "source": [
    "The TimerRemaining class includes a buffer array initialized to a length of 10. The preceding example assigns values to this array using the \"from the end\" index operator (^), effectively creating an array that counts down from 9 to 0.\n",
    "\n",
    "In versions before C# 13, the ^ operator can't be used in an object initializer. You need to index the elements from the front."
   ]
  }
 ],
 "metadata": {
  "kernelspec": {
   "display_name": ".NET (C#)",
   "language": "C#",
   "name": ".net-csharp"
  },
  "polyglot_notebook": {
   "kernelInfo": {
    "defaultKernelName": "csharp",
    "items": [
     {
      "aliases": [],
      "languageName": "csharp",
      "name": "csharp"
     }
    ]
   }
  }
 },
 "nbformat": 4,
 "nbformat_minor": 2
}
