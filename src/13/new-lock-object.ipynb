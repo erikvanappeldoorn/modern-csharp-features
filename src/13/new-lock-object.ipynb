{
 "cells": [
  {
   "cell_type": "markdown",
   "metadata": {},
   "source": [
    "### New lock object\n",
    "\n",
    "The .NET 9 runtime includes a new type for thread synchronization, the System.Threading.Lock type. This type provides better thread synchronization through its API. The Lock.EnterScope() method enters an exclusive scope. The ref struct returned from that supports the Dispose() pattern to exit the exclusive scope.\n",
    "\n",
    "The C# lock statement recognizes if the target of the lock is a Lock object. If so, it uses the updated API, rather than the traditional API using System.Threading.Monitor. The compiler also recognizes if you convert a Lock object to another type and the Monitor based code would be generated. You can read more in the feature specification for the new lock object.\n",
    "\n",
    "This feature allows you to get the benefits of the new library type by changing the type of object you lock. No other code needs to change."
   ]
  },
  {
   "cell_type": "code",
   "execution_count": null,
   "metadata": {},
   "outputs": [],
   "source": [
    "using System.Threading;\n",
    "\n",
    "var numbers = Enumerable.Range(1, 10_000_000);\n",
    "\n",
    "List<int> primes = new();\n",
    "Lock mutex = new();\n",
    "\n",
    "Parallel.ForEach(numbers, (n) => \n",
    "{\n",
    "  if (IsPrime(n))\n",
    "  {\n",
    "    lock (mutex)\n",
    "    {\n",
    "       primes.Add(n);        \n",
    "    }\n",
    "  }\n",
    "});\n",
    "\n",
    "Console.WriteLine($\"{primes.Count} primes found\");\n",
    "\n",
    "bool IsPrime(int number)\n",
    "{\n",
    "    if (number <= 1)\n",
    "        return false;\n",
    "    \n",
    "    for (int i = 2; i <= Math.Sqrt(number); i++)\n",
    "    {\n",
    "        if (number % i == 0)\n",
    "            return false;\n",
    "    }\n",
    "    \n",
    "    return true;\n",
    "}\n"
   ]
  }
 ],
 "metadata": {
  "kernelspec": {
   "display_name": ".NET (C#)",
   "language": "C#",
   "name": ".net-csharp"
  },
  "polyglot_notebook": {
   "kernelInfo": {
    "defaultKernelName": "csharp",
    "items": [
     {
      "aliases": [],
      "languageName": "csharp",
      "name": "csharp"
     }
    ]
   }
  }
 },
 "nbformat": 4,
 "nbformat_minor": 2
}
