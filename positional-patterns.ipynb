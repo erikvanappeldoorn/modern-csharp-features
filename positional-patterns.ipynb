{
 "cells": [
  {
   "cell_type": "markdown",
   "metadata": {},
   "source": [
    "### Positional patterns\n",
    "\n",
    "When testing a type with a Deconstructor method, positional patterns can be used which have syntax very similar to tuple patterns "
   ]
  },
  {
   "cell_type": "code",
   "execution_count": null,
   "metadata": {},
   "outputs": [],
   "source": [
    "public class Sword\n",
    "{\n",
    "   private int durability;\n",
    "   private int damage;\n",
    "\n",
    "   public int Damage {get => damage;}\n",
    "   public int Durability {get => durability;}\n",
    "   \n",
    "   public Sword(int durability, int damage = 0)\n",
    "   {\n",
    "      this.durability = durability;\n",
    "      this.damage = damage;\n",
    "   }\n",
    "\n",
    "   public void IncreaseDamage()\n",
    "   {\n",
    "      this.damage = this.damage + 10;\n",
    "   } \n",
    "\n",
    "   public void Deconstruct(out int durability, out int damage)\n",
    "   {\n",
    "      durability = this.durability;\n",
    "      damage = this.damage;\n",
    "   }\n",
    "}\n",
    "\n",
    "Sword sword = new Sword(50);\n",
    "sword.IncreaseDamage();\n",
    "\n",
    "if (sword is Sword(50, int damage))\n",
    "{\n",
    "   Console.WriteLine($\"Damage {damage}\");  \n",
    "}\n",
    "\n",
    "if (sword is {Damage: 10, Durability: 50})\n",
    "{\n",
    "     Console.WriteLine($\"This positional pattern works also without Deconstruct method\");  \n",
    "}"
   ]
  }
 ],
 "metadata": {
  "kernelspec": {
   "display_name": ".NET (C#)",
   "language": "C#",
   "name": ".net-csharp"
  },
  "polyglot_notebook": {
   "kernelInfo": {
    "defaultKernelName": "csharp",
    "items": [
     {
      "aliases": [],
      "languageName": "csharp",
      "name": "csharp"
     }
    ]
   }
  }
 },
 "nbformat": 4,
 "nbformat_minor": 2
}
