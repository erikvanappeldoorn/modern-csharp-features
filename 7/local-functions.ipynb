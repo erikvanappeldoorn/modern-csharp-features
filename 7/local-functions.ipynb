{
 "cells": [
  {
   "cell_type": "markdown",
   "metadata": {},
   "source": [
    "### Local functions\n",
    "\n",
    "Sometimes a helper function only makes sense inside of a single method that uses it. You can now declare such functions inside other function bodies as a local function:"
   ]
  },
  {
   "cell_type": "code",
   "execution_count": null,
   "metadata": {},
   "outputs": [],
   "source": [
    "public int Fibonacci(int x)\n",
    "{\n",
    "    if (x < 0) \n",
    "       throw new ArgumentException(\"Less negativity please!\", nameof(x));\n",
    "    \n",
    "    return Fib(x).current;\n",
    "\n",
    "    (int current, int previous) Fib(int i)\n",
    "    {\n",
    "        if (i == 0) return (1, 0);\n",
    "        var (p, pp) = Fib(i - 1);\n",
    "        return (p + pp, p);\n",
    "    }\n",
    "}\n",
    "\n",
    "int result = Fibonacci(10);\n",
    "Console.WriteLine($\"Result: {result}\");"
   ]
  }
 ],
 "metadata": {
  "kernelspec": {
   "display_name": ".NET (C#)",
   "language": "C#",
   "name": ".net-csharp"
  },
  "polyglot_notebook": {
   "kernelInfo": {
    "defaultKernelName": "csharp",
    "items": [
     {
      "aliases": [],
      "languageName": "csharp",
      "name": "csharp"
     }
    ]
   }
  }
 },
 "nbformat": 4,
 "nbformat_minor": 2
}
